{
 "cells": [
  {
   "cell_type": "code",
   "execution_count": 1,
   "metadata": {
    "collapsed": false
   },
   "outputs": [
    {
     "data": {
      "text/html": [
       "<div>\n",
       "<table border=\"1\" class=\"dataframe\">\n",
       "  <thead>\n",
       "    <tr style=\"text-align: right;\">\n",
       "      <th></th>\n",
       "      <th>AnimalID</th>\n",
       "      <th>Name</th>\n",
       "      <th>DateTime</th>\n",
       "      <th>OutcomeType</th>\n",
       "      <th>OutcomeSubtype</th>\n",
       "      <th>AnimalType</th>\n",
       "      <th>SexuponOutcome</th>\n",
       "      <th>AgeuponOutcome</th>\n",
       "      <th>Breed</th>\n",
       "      <th>Color</th>\n",
       "    </tr>\n",
       "  </thead>\n",
       "  <tbody>\n",
       "    <tr>\n",
       "      <th>0</th>\n",
       "      <td>A671945</td>\n",
       "      <td>Hambone</td>\n",
       "      <td>2014-02-12 18:22:00</td>\n",
       "      <td>Return_to_owner</td>\n",
       "      <td>NaN</td>\n",
       "      <td>Dog</td>\n",
       "      <td>Neutered Male</td>\n",
       "      <td>1 year</td>\n",
       "      <td>Shetland Sheepdog Mix</td>\n",
       "      <td>Brown/White</td>\n",
       "    </tr>\n",
       "    <tr>\n",
       "      <th>1</th>\n",
       "      <td>A656520</td>\n",
       "      <td>Emily</td>\n",
       "      <td>2013-10-13 12:44:00</td>\n",
       "      <td>Euthanasia</td>\n",
       "      <td>Suffering</td>\n",
       "      <td>Cat</td>\n",
       "      <td>Spayed Female</td>\n",
       "      <td>1 year</td>\n",
       "      <td>Domestic Shorthair Mix</td>\n",
       "      <td>Cream Tabby</td>\n",
       "    </tr>\n",
       "    <tr>\n",
       "      <th>2</th>\n",
       "      <td>A686464</td>\n",
       "      <td>Pearce</td>\n",
       "      <td>2015-01-31 12:28:00</td>\n",
       "      <td>Adoption</td>\n",
       "      <td>Foster</td>\n",
       "      <td>Dog</td>\n",
       "      <td>Neutered Male</td>\n",
       "      <td>2 years</td>\n",
       "      <td>Pit Bull Mix</td>\n",
       "      <td>Blue/White</td>\n",
       "    </tr>\n",
       "    <tr>\n",
       "      <th>3</th>\n",
       "      <td>A683430</td>\n",
       "      <td>NaN</td>\n",
       "      <td>2014-07-11 19:09:00</td>\n",
       "      <td>Transfer</td>\n",
       "      <td>Partner</td>\n",
       "      <td>Cat</td>\n",
       "      <td>Intact Male</td>\n",
       "      <td>3 weeks</td>\n",
       "      <td>Domestic Shorthair Mix</td>\n",
       "      <td>Blue Cream</td>\n",
       "    </tr>\n",
       "    <tr>\n",
       "      <th>4</th>\n",
       "      <td>A667013</td>\n",
       "      <td>NaN</td>\n",
       "      <td>2013-11-15 12:52:00</td>\n",
       "      <td>Transfer</td>\n",
       "      <td>Partner</td>\n",
       "      <td>Dog</td>\n",
       "      <td>Neutered Male</td>\n",
       "      <td>2 years</td>\n",
       "      <td>Lhasa Apso/Miniature Poodle</td>\n",
       "      <td>Tan</td>\n",
       "    </tr>\n",
       "  </tbody>\n",
       "</table>\n",
       "</div>"
      ],
      "text/plain": [
       "  AnimalID     Name             DateTime      OutcomeType OutcomeSubtype  \\\n",
       "0  A671945  Hambone  2014-02-12 18:22:00  Return_to_owner            NaN   \n",
       "1  A656520    Emily  2013-10-13 12:44:00       Euthanasia      Suffering   \n",
       "2  A686464   Pearce  2015-01-31 12:28:00         Adoption         Foster   \n",
       "3  A683430      NaN  2014-07-11 19:09:00         Transfer        Partner   \n",
       "4  A667013      NaN  2013-11-15 12:52:00         Transfer        Partner   \n",
       "\n",
       "  AnimalType SexuponOutcome AgeuponOutcome                        Breed  \\\n",
       "0        Dog  Neutered Male         1 year        Shetland Sheepdog Mix   \n",
       "1        Cat  Spayed Female         1 year       Domestic Shorthair Mix   \n",
       "2        Dog  Neutered Male        2 years                 Pit Bull Mix   \n",
       "3        Cat    Intact Male        3 weeks       Domestic Shorthair Mix   \n",
       "4        Dog  Neutered Male        2 years  Lhasa Apso/Miniature Poodle   \n",
       "\n",
       "         Color  \n",
       "0  Brown/White  \n",
       "1  Cream Tabby  \n",
       "2   Blue/White  \n",
       "3   Blue Cream  \n",
       "4          Tan  "
      ]
     },
     "execution_count": 1,
     "metadata": {},
     "output_type": "execute_result"
    }
   ],
   "source": [
    "#Import\n",
    "import numpy as np\n",
    "import pandas as pd\n",
    "import matplotlib.pyplot as plt\n",
    "%matplotlib inline\n",
    "import seaborn as sns\n",
    "sns.set_style('whitegrid')\n",
    "\n",
    "#Loads the data and quick check\n",
    "train = pd.read_csv('.../Kaggle/Shelter/train.csv')\n",
    "test = pd.read_csv('.../Kaggle/Shelter/test.csv')\n",
    "\n",
    "train.head()"
   ]
  },
  {
   "cell_type": "code",
   "execution_count": 2,
   "metadata": {
    "collapsed": false
   },
   "outputs": [
    {
     "data": {
      "text/plain": [
       "AnimalID          False\n",
       "Name               True\n",
       "DateTime          False\n",
       "OutcomeType       False\n",
       "OutcomeSubtype     True\n",
       "AnimalType        False\n",
       "SexuponOutcome     True\n",
       "AgeuponOutcome     True\n",
       "Breed             False\n",
       "Color             False\n",
       "dtype: bool"
      ]
     },
     "execution_count": 2,
     "metadata": {},
     "output_type": "execute_result"
    }
   ],
   "source": [
    "#Finding the nulls in train data\n",
    "train.isnull().any()\n",
    "#test.isnull().any()"
   ]
  },
  {
   "cell_type": "code",
   "execution_count": 3,
   "metadata": {
    "collapsed": false
   },
   "outputs": [
    {
     "name": "stdout",
     "output_type": "stream",
     "text": [
      "<class 'pandas.core.frame.DataFrame'>\n",
      "Int64Index: 26729 entries, 0 to 26728\n",
      "Data columns (total 10 columns):\n",
      "AnimalID          26729 non-null object\n",
      "Name              19038 non-null object\n",
      "DateTime          26729 non-null object\n",
      "OutcomeType       26729 non-null object\n",
      "OutcomeSubtype    13117 non-null object\n",
      "AnimalType        26729 non-null object\n",
      "SexuponOutcome    26728 non-null object\n",
      "AgeuponOutcome    26711 non-null object\n",
      "Breed             26729 non-null object\n",
      "Color             26729 non-null object\n",
      "dtypes: object(10)\n",
      "memory usage: 2.2+ MB\n",
      "----------------------------\n",
      "<class 'pandas.core.frame.DataFrame'>\n",
      "Int64Index: 11456 entries, 0 to 11455\n",
      "Data columns (total 8 columns):\n",
      "ID                11456 non-null int64\n",
      "Name              8231 non-null object\n",
      "DateTime          11456 non-null object\n",
      "AnimalType        11456 non-null object\n",
      "SexuponOutcome    11456 non-null object\n",
      "AgeuponOutcome    11450 non-null object\n",
      "Breed             11456 non-null object\n",
      "Color             11456 non-null object\n",
      "dtypes: int64(1), object(7)\n",
      "memory usage: 805.5+ KB\n"
     ]
    }
   ],
   "source": [
    "#Data type checks\n",
    "train.info()\n",
    "print(\"----------------------------\")\n",
    "test.info()"
   ]
  },
  {
   "cell_type": "code",
   "execution_count": 4,
   "metadata": {
    "collapsed": false
   },
   "outputs": [
    {
     "data": {
      "text/html": [
       "<div>\n",
       "<table border=\"1\" class=\"dataframe\">\n",
       "  <thead>\n",
       "    <tr style=\"text-align: right;\">\n",
       "      <th></th>\n",
       "      <th>AnimalID</th>\n",
       "      <th>Name</th>\n",
       "      <th>DateTime</th>\n",
       "      <th>OutcomeType</th>\n",
       "      <th>OutcomeSubtype</th>\n",
       "      <th>AnimalType</th>\n",
       "      <th>SexuponOutcome</th>\n",
       "      <th>AgeuponOutcome</th>\n",
       "      <th>Breed</th>\n",
       "      <th>Color</th>\n",
       "    </tr>\n",
       "  </thead>\n",
       "  <tbody>\n",
       "    <tr>\n",
       "      <th>count</th>\n",
       "      <td>26729</td>\n",
       "      <td>19038</td>\n",
       "      <td>26729</td>\n",
       "      <td>26729</td>\n",
       "      <td>13117</td>\n",
       "      <td>26729</td>\n",
       "      <td>26728</td>\n",
       "      <td>26711</td>\n",
       "      <td>26729</td>\n",
       "      <td>26729</td>\n",
       "    </tr>\n",
       "    <tr>\n",
       "      <th>unique</th>\n",
       "      <td>26729</td>\n",
       "      <td>6374</td>\n",
       "      <td>22918</td>\n",
       "      <td>5</td>\n",
       "      <td>16</td>\n",
       "      <td>2</td>\n",
       "      <td>5</td>\n",
       "      <td>44</td>\n",
       "      <td>1380</td>\n",
       "      <td>366</td>\n",
       "    </tr>\n",
       "    <tr>\n",
       "      <th>top</th>\n",
       "      <td>A698874</td>\n",
       "      <td>Max</td>\n",
       "      <td>2015-08-11 00:00:00</td>\n",
       "      <td>Adoption</td>\n",
       "      <td>Partner</td>\n",
       "      <td>Dog</td>\n",
       "      <td>Neutered Male</td>\n",
       "      <td>1 year</td>\n",
       "      <td>Domestic Shorthair Mix</td>\n",
       "      <td>Black/White</td>\n",
       "    </tr>\n",
       "    <tr>\n",
       "      <th>freq</th>\n",
       "      <td>1</td>\n",
       "      <td>136</td>\n",
       "      <td>19</td>\n",
       "      <td>10769</td>\n",
       "      <td>7816</td>\n",
       "      <td>15595</td>\n",
       "      <td>9779</td>\n",
       "      <td>3969</td>\n",
       "      <td>8810</td>\n",
       "      <td>2824</td>\n",
       "    </tr>\n",
       "  </tbody>\n",
       "</table>\n",
       "</div>"
      ],
      "text/plain": [
       "       AnimalID   Name             DateTime OutcomeType OutcomeSubtype  \\\n",
       "count     26729  19038                26729       26729          13117   \n",
       "unique    26729   6374                22918           5             16   \n",
       "top     A698874    Max  2015-08-11 00:00:00    Adoption        Partner   \n",
       "freq          1    136                   19       10769           7816   \n",
       "\n",
       "       AnimalType SexuponOutcome AgeuponOutcome                   Breed  \\\n",
       "count       26729          26728          26711                   26729   \n",
       "unique          2              5             44                    1380   \n",
       "top           Dog  Neutered Male         1 year  Domestic Shorthair Mix   \n",
       "freq        15595           9779           3969                    8810   \n",
       "\n",
       "              Color  \n",
       "count         26729  \n",
       "unique          366  \n",
       "top     Black/White  \n",
       "freq           2824  "
      ]
     },
     "execution_count": 4,
     "metadata": {},
     "output_type": "execute_result"
    }
   ],
   "source": [
    "#Description of the data set\n",
    "train.describe()"
   ]
  },
  {
   "cell_type": "code",
   "execution_count": 5,
   "metadata": {
    "collapsed": false
   },
   "outputs": [],
   "source": [
    "#Drop unnecessary columns\n",
    "\n",
    "#train.drop(\"AgeuponOutcome\",axis=1,inplace=True)\n",
    "#test.drop(\"AgeuponOutcome\",axis=1,inplace=True)\n",
    "\n",
    "train.drop(\"OutcomeSubtype\",axis=1,inplace=True)"
   ]
  },
  {
   "cell_type": "code",
   "execution_count": 6,
   "metadata": {
    "collapsed": false
   },
   "outputs": [
    {
     "data": {
      "text/plain": [
       "<matplotlib.text.Text at 0xaa9f5c0>"
      ]
     },
     "execution_count": 6,
     "metadata": {},
     "output_type": "execute_result"
    },
    {
     "data": {
      "image/png": "[encoded data removed]",
      "text/plain": [
       "<matplotlib.figure.Figure at 0xa87b160>"
      ]
     },
     "metadata": {},
     "output_type": "display_data"
    }
   ],
   "source": [
    "#First chart: What's the outcome of animals going into the shelter?\n",
    "fig, axis1 = plt.subplots(1,1,figsize=(20,10))\n",
    "sns.countplot(train.OutcomeType, palette='Set1')\n",
    "sns.plt.title('Outcome of Shelter Animals', size=20)"
   ]
  },
  {
   "cell_type": "markdown",
   "metadata": {},
   "source": [
    "## Most animals from this shelter are either adopted or transfered."
   ]
  },
  {
   "cell_type": "code",
   "execution_count": 7,
   "metadata": {
    "collapsed": false
   },
   "outputs": [
    {
     "data": {
      "text/plain": [
       "<matplotlib.text.Text at 0xb0fce10>"
      ]
     },
     "execution_count": 7,
     "metadata": {},
     "output_type": "execute_result"
    },
    {
     "data": {
      "image/png": "[encoded data removed]",
      "text/plain": [
       "<matplotlib.figure.Figure at 0xae34588>"
      ]
     },
     "metadata": {},
     "output_type": "display_data"
    }
   ],
   "source": [
    "f, (ax1, ax2) = plt.subplots(1, 2, figsize=(20, 6))\n",
    "sns.countplot(data=train, x='OutcomeType',hue='AnimalType', ax=ax1)\n",
    "sns.countplot(data=train, x='AnimalType',hue='OutcomeType', ax=ax2)\n",
    "sns.plt.title('Outcome of Shelter Animals by Cat/Dog', size=20)"
   ]
  },
  {
   "cell_type": "markdown",
   "metadata": {},
   "source": [
    "## More dogs are adopted and returned to owner, while cats had a higher count of transfering shelters."
   ]
  },
  {
   "cell_type": "code",
   "execution_count": 8,
   "metadata": {
    "collapsed": false
   },
   "outputs": [],
   "source": [
    "#Currently age is a mess and recorded differently--this converts all of the AgeuponOutcome values into weeks:\n",
    "\n",
    "def convert_AgeuponOutcome_to_weeks(df):\n",
    "    result = {}\n",
    "    for k in df['AgeuponOutcome'].unique():\n",
    "        if type(k) != type(\"\"):\n",
    "            result[k] = -1\n",
    "        else:\n",
    "            v1, v2 = k.split()\n",
    "            if v2 in [\"year\", \"years\"]:\n",
    "                result[k] = int(v1) * 52\n",
    "            elif v2 in [\"month\", \"months\"]:\n",
    "                result[k] = int(v1) * 4.5\n",
    "            elif v2 in [\"week\", \"weeks\"]:\n",
    "                result[k] = int(v1)\n",
    "            elif v2 in [\"day\", \"days\"]:\n",
    "                result[k] = int(v1) / 7\n",
    "                \n",
    "    df['_AgeuponOutcome'] = df['AgeuponOutcome'].map(result).astype(float)\n",
    "    df = df.drop('AgeuponOutcome', axis = 1)\n",
    "                \n",
    "    return df\n",
    "\n",
    "train = convert_AgeuponOutcome_to_weeks(train)\n",
    "test = convert_AgeuponOutcome_to_weeks(test)\n"
   ]
  },
  {
   "cell_type": "code",
   "execution_count": 9,
   "metadata": {
    "collapsed": false
   },
   "outputs": [],
   "source": [
    "#Fixing the DateTime column by splitting out year, month, day, hour, minute\n",
    "\n",
    "def fix_date_time(df):\n",
    "    def extract_field(_df, start, stop):\n",
    "        return _df['DateTime'].map(lambda dt: int(dt[start:stop]))\n",
    "    df['Year'] = extract_field(df,0,4)\n",
    "    df['Month'] = extract_field(df,5,7)\n",
    "    df['Day'] = extract_field(df,8,10)\n",
    "    df['Hour'] = extract_field(df,11,13)\n",
    "    df['Minute'] = extract_field(df,14,16)\n",
    "    \n",
    "    return df.drop(['DateTime'], axis = 1)\n",
    "\n",
    "train = fix_date_time(train)\n",
    "test = fix_date_time(test)\n"
   ]
  },
  {
   "cell_type": "code",
   "execution_count": 10,
   "metadata": {
    "collapsed": false
   },
   "outputs": [],
   "source": [
    "#Converting all of the remaining features (Name, Breed, Color, OutcomeType, SexuponOutcome, AnimalType) to numeric values\n",
    "\n",
    "def convert_to_numeric(df):\n",
    "    for col in ['Name', 'AnimalType', 'SexuponOutcome',\n",
    "                'Breed', 'Color', 'OutcomeType']:\n",
    "        if col in df.columns:\n",
    "            _col = \"_%s\" % (col)\n",
    "            values = df[col].unique()\n",
    "            _values = dict(zip(values, range(len(values))))\n",
    "            df[_col] = df[col].map(_values).astype(int)\n",
    "            df = df.drop(col, axis = 1)\n",
    "    return df\n",
    "\n",
    "train = convert_to_numeric(train)\n",
    "test = convert_to_numeric(test)\n"
   ]
  },
  {
   "cell_type": "code",
   "execution_count": null,
   "metadata": {
    "collapsed": true
   },
   "outputs": [],
   "source": [
    "#add a column with Spayed/Neutered/Intact\n",
    "\n",
    "operation = pd.concat([test['_Operation'], train_df['Operation']])\n",
    "values = dict(names.value_counts())\n",
    "\n",
    "train_df['_NameFreq'] = train_df['Name'].map(values)\n",
    "test_df['_NameFreq'] = test_df['Name'].map(values)\n",
    "\n",
    "train_df['_NameFreq'] = train_df['_NameFreq'].fillna(99999)\n",
    "test_df['_NameFreq'] = test_df['_NameFreq'].fillna(99999)\n",
    "\n",
    "print(test_df.info())\n",
    "print(train_df.info())"
   ]
  },
  {
   "cell_type": "code",
   "execution_count": 11,
   "metadata": {
    "collapsed": false
   },
   "outputs": [
    {
     "data": {
      "text/html": [
       "<div>\n",
       "<table border=\"1\" class=\"dataframe\">\n",
       "  <thead>\n",
       "    <tr style=\"text-align: right;\">\n",
       "      <th></th>\n",
       "      <th>AnimalID</th>\n",
       "      <th>_AgeuponOutcome</th>\n",
       "      <th>Year</th>\n",
       "      <th>Month</th>\n",
       "      <th>Day</th>\n",
       "      <th>Hour</th>\n",
       "      <th>Minute</th>\n",
       "      <th>_Name</th>\n",
       "      <th>_AnimalType</th>\n",
       "      <th>_SexuponOutcome</th>\n",
       "      <th>_Breed</th>\n",
       "      <th>_Color</th>\n",
       "      <th>_OutcomeType</th>\n",
       "    </tr>\n",
       "  </thead>\n",
       "  <tbody>\n",
       "    <tr>\n",
       "      <th>0</th>\n",
       "      <td>A671945</td>\n",
       "      <td>52</td>\n",
       "      <td>2014</td>\n",
       "      <td>2</td>\n",
       "      <td>12</td>\n",
       "      <td>18</td>\n",
       "      <td>22</td>\n",
       "      <td>0</td>\n",
       "      <td>0</td>\n",
       "      <td>0</td>\n",
       "      <td>0</td>\n",
       "      <td>0</td>\n",
       "      <td>0</td>\n",
       "    </tr>\n",
       "    <tr>\n",
       "      <th>1</th>\n",
       "      <td>A656520</td>\n",
       "      <td>52</td>\n",
       "      <td>2013</td>\n",
       "      <td>10</td>\n",
       "      <td>13</td>\n",
       "      <td>12</td>\n",
       "      <td>44</td>\n",
       "      <td>1</td>\n",
       "      <td>1</td>\n",
       "      <td>1</td>\n",
       "      <td>1</td>\n",
       "      <td>1</td>\n",
       "      <td>1</td>\n",
       "    </tr>\n",
       "    <tr>\n",
       "      <th>2</th>\n",
       "      <td>A686464</td>\n",
       "      <td>104</td>\n",
       "      <td>2015</td>\n",
       "      <td>1</td>\n",
       "      <td>31</td>\n",
       "      <td>12</td>\n",
       "      <td>28</td>\n",
       "      <td>2</td>\n",
       "      <td>0</td>\n",
       "      <td>0</td>\n",
       "      <td>2</td>\n",
       "      <td>2</td>\n",
       "      <td>2</td>\n",
       "    </tr>\n",
       "    <tr>\n",
       "      <th>3</th>\n",
       "      <td>A683430</td>\n",
       "      <td>3</td>\n",
       "      <td>2014</td>\n",
       "      <td>7</td>\n",
       "      <td>11</td>\n",
       "      <td>19</td>\n",
       "      <td>9</td>\n",
       "      <td>3</td>\n",
       "      <td>1</td>\n",
       "      <td>2</td>\n",
       "      <td>1</td>\n",
       "      <td>3</td>\n",
       "      <td>3</td>\n",
       "    </tr>\n",
       "    <tr>\n",
       "      <th>4</th>\n",
       "      <td>A667013</td>\n",
       "      <td>104</td>\n",
       "      <td>2013</td>\n",
       "      <td>11</td>\n",
       "      <td>15</td>\n",
       "      <td>12</td>\n",
       "      <td>52</td>\n",
       "      <td>3</td>\n",
       "      <td>0</td>\n",
       "      <td>0</td>\n",
       "      <td>3</td>\n",
       "      <td>4</td>\n",
       "      <td>3</td>\n",
       "    </tr>\n",
       "  </tbody>\n",
       "</table>\n",
       "</div>"
      ],
      "text/plain": [
       "  AnimalID  _AgeuponOutcome  Year  Month  Day  Hour  Minute  _Name  \\\n",
       "0  A671945               52  2014      2   12    18      22      0   \n",
       "1  A656520               52  2013     10   13    12      44      1   \n",
       "2  A686464              104  2015      1   31    12      28      2   \n",
       "3  A683430                3  2014      7   11    19       9      3   \n",
       "4  A667013              104  2013     11   15    12      52      3   \n",
       "\n",
       "   _AnimalType  _SexuponOutcome  _Breed  _Color  _OutcomeType  \n",
       "0            0                0       0       0             0  \n",
       "1            1                1       1       1             1  \n",
       "2            0                0       2       2             2  \n",
       "3            1                2       1       3             3  \n",
       "4            0                0       3       4             3  "
      ]
     },
     "execution_count": 11,
     "metadata": {},
     "output_type": "execute_result"
    }
   ],
   "source": [
    "train.head()"
   ]
  },
  {
   "cell_type": "code",
   "execution_count": 12,
   "metadata": {
    "collapsed": false
   },
   "outputs": [
    {
     "data": {
      "text/plain": [
       "AnimalID           False\n",
       "_AgeuponOutcome    False\n",
       "Year               False\n",
       "Month              False\n",
       "Day                False\n",
       "Hour               False\n",
       "Minute             False\n",
       "_Name              False\n",
       "_AnimalType        False\n",
       "_SexuponOutcome    False\n",
       "_Breed             False\n",
       "_Color             False\n",
       "_OutcomeType       False\n",
       "dtype: bool"
      ]
     },
     "execution_count": 12,
     "metadata": {},
     "output_type": "execute_result"
    }
   ],
   "source": [
    "#Finding the nulls in train data\n",
    "train.isnull().any()"
   ]
  },
  {
   "cell_type": "code",
   "execution_count": 13,
   "metadata": {
    "collapsed": false
   },
   "outputs": [
    {
     "name": "stdout",
     "output_type": "stream",
     "text": [
      "<class 'pandas.core.frame.DataFrame'>\n",
      "Int64Index: 26729 entries, 0 to 26728\n",
      "Data columns (total 13 columns):\n",
      "AnimalID           26729 non-null object\n",
      "_AgeuponOutcome    26729 non-null float64\n",
      "Year               26729 non-null int64\n",
      "Month              26729 non-null int64\n",
      "Day                26729 non-null int64\n",
      "Hour               26729 non-null int64\n",
      "Minute             26729 non-null int64\n",
      "_Name              26729 non-null int32\n",
      "_AnimalType        26729 non-null int32\n",
      "_SexuponOutcome    26729 non-null int32\n",
      "_Breed             26729 non-null int32\n",
      "_Color             26729 non-null int32\n",
      "_OutcomeType       26729 non-null int32\n",
      "dtypes: float64(1), int32(6), int64(5), object(1)\n",
      "memory usage: 2.2+ MB\n"
     ]
    }
   ],
   "source": [
    "train.info()"
   ]
  },
  {
   "cell_type": "code",
   "execution_count": 14,
   "metadata": {
    "collapsed": false
   },
   "outputs": [
    {
     "data": {
      "text/html": [
       "<div>\n",
       "<table border=\"1\" class=\"dataframe\">\n",
       "  <thead>\n",
       "    <tr style=\"text-align: right;\">\n",
       "      <th></th>\n",
       "      <th>_AgeuponOutcome</th>\n",
       "      <th>Year</th>\n",
       "      <th>Month</th>\n",
       "      <th>Day</th>\n",
       "      <th>Hour</th>\n",
       "      <th>Minute</th>\n",
       "      <th>_Name</th>\n",
       "      <th>_AnimalType</th>\n",
       "      <th>_SexuponOutcome</th>\n",
       "      <th>_Breed</th>\n",
       "      <th>_Color</th>\n",
       "      <th>_OutcomeType</th>\n",
       "    </tr>\n",
       "  </thead>\n",
       "  <tbody>\n",
       "    <tr>\n",
       "      <th>count</th>\n",
       "      <td>26729.000000</td>\n",
       "      <td>26729.000000</td>\n",
       "      <td>26729.000000</td>\n",
       "      <td>26729.000000</td>\n",
       "      <td>26729.000000</td>\n",
       "      <td>26729.000000</td>\n",
       "      <td>26729.000000</td>\n",
       "      <td>26729.000000</td>\n",
       "      <td>26729.000000</td>\n",
       "      <td>26729.000000</td>\n",
       "      <td>26729.000000</td>\n",
       "      <td>26729.000000</td>\n",
       "    </tr>\n",
       "    <tr>\n",
       "      <th>mean</th>\n",
       "      <td>113.363575</td>\n",
       "      <td>2014.430731</td>\n",
       "      <td>6.925736</td>\n",
       "      <td>15.698343</td>\n",
       "      <td>14.445396</td>\n",
       "      <td>27.681170</td>\n",
       "      <td>1294.569606</td>\n",
       "      <td>0.416551</td>\n",
       "      <td>1.151558</td>\n",
       "      <td>101.805081</td>\n",
       "      <td>30.726178</td>\n",
       "      <td>1.950952</td>\n",
       "    </tr>\n",
       "    <tr>\n",
       "      <th>std</th>\n",
       "      <td>154.068005</td>\n",
       "      <td>0.741408</td>\n",
       "      <td>3.495869</td>\n",
       "      <td>8.770496</td>\n",
       "      <td>3.337331</td>\n",
       "      <td>18.189427</td>\n",
       "      <td>1672.197847</td>\n",
       "      <td>0.492996</td>\n",
       "      <td>1.169985</td>\n",
       "      <td>220.202490</td>\n",
       "      <td>40.251600</td>\n",
       "      <td>1.074254</td>\n",
       "    </tr>\n",
       "    <tr>\n",
       "      <th>min</th>\n",
       "      <td>-1.000000</td>\n",
       "      <td>2013.000000</td>\n",
       "      <td>1.000000</td>\n",
       "      <td>1.000000</td>\n",
       "      <td>0.000000</td>\n",
       "      <td>0.000000</td>\n",
       "      <td>0.000000</td>\n",
       "      <td>0.000000</td>\n",
       "      <td>0.000000</td>\n",
       "      <td>0.000000</td>\n",
       "      <td>0.000000</td>\n",
       "      <td>0.000000</td>\n",
       "    </tr>\n",
       "    <tr>\n",
       "      <th>25%</th>\n",
       "      <td>9.000000</td>\n",
       "      <td>2014.000000</td>\n",
       "      <td>4.000000</td>\n",
       "      <td>8.000000</td>\n",
       "      <td>12.000000</td>\n",
       "      <td>12.000000</td>\n",
       "      <td>3.000000</td>\n",
       "      <td>0.000000</td>\n",
       "      <td>0.000000</td>\n",
       "      <td>1.000000</td>\n",
       "      <td>10.000000</td>\n",
       "      <td>2.000000</td>\n",
       "    </tr>\n",
       "    <tr>\n",
       "      <th>50%</th>\n",
       "      <td>52.000000</td>\n",
       "      <td>2014.000000</td>\n",
       "      <td>7.000000</td>\n",
       "      <td>16.000000</td>\n",
       "      <td>15.000000</td>\n",
       "      <td>27.000000</td>\n",
       "      <td>493.000000</td>\n",
       "      <td>0.000000</td>\n",
       "      <td>1.000000</td>\n",
       "      <td>16.000000</td>\n",
       "      <td>18.000000</td>\n",
       "      <td>2.000000</td>\n",
       "    </tr>\n",
       "    <tr>\n",
       "      <th>75%</th>\n",
       "      <td>156.000000</td>\n",
       "      <td>2015.000000</td>\n",
       "      <td>10.000000</td>\n",
       "      <td>23.000000</td>\n",
       "      <td>17.000000</td>\n",
       "      <td>43.000000</td>\n",
       "      <td>2045.000000</td>\n",
       "      <td>1.000000</td>\n",
       "      <td>2.000000</td>\n",
       "      <td>75.000000</td>\n",
       "      <td>34.000000</td>\n",
       "      <td>3.000000</td>\n",
       "    </tr>\n",
       "    <tr>\n",
       "      <th>max</th>\n",
       "      <td>1040.000000</td>\n",
       "      <td>2016.000000</td>\n",
       "      <td>12.000000</td>\n",
       "      <td>31.000000</td>\n",
       "      <td>23.000000</td>\n",
       "      <td>59.000000</td>\n",
       "      <td>6374.000000</td>\n",
       "      <td>1.000000</td>\n",
       "      <td>5.000000</td>\n",
       "      <td>1379.000000</td>\n",
       "      <td>365.000000</td>\n",
       "      <td>4.000000</td>\n",
       "    </tr>\n",
       "  </tbody>\n",
       "</table>\n",
       "</div>"
      ],
      "text/plain": [
       "       _AgeuponOutcome          Year         Month           Day  \\\n",
       "count     26729.000000  26729.000000  26729.000000  26729.000000   \n",
       "mean        113.363575   2014.430731      6.925736     15.698343   \n",
       "std         154.068005      0.741408      3.495869      8.770496   \n",
       "min          -1.000000   2013.000000      1.000000      1.000000   \n",
       "25%           9.000000   2014.000000      4.000000      8.000000   \n",
       "50%          52.000000   2014.000000      7.000000     16.000000   \n",
       "75%         156.000000   2015.000000     10.000000     23.000000   \n",
       "max        1040.000000   2016.000000     12.000000     31.000000   \n",
       "\n",
       "               Hour        Minute         _Name   _AnimalType  \\\n",
       "count  26729.000000  26729.000000  26729.000000  26729.000000   \n",
       "mean      14.445396     27.681170   1294.569606      0.416551   \n",
       "std        3.337331     18.189427   1672.197847      0.492996   \n",
       "min        0.000000      0.000000      0.000000      0.000000   \n",
       "25%       12.000000     12.000000      3.000000      0.000000   \n",
       "50%       15.000000     27.000000    493.000000      0.000000   \n",
       "75%       17.000000     43.000000   2045.000000      1.000000   \n",
       "max       23.000000     59.000000   6374.000000      1.000000   \n",
       "\n",
       "       _SexuponOutcome        _Breed        _Color  _OutcomeType  \n",
       "count     26729.000000  26729.000000  26729.000000  26729.000000  \n",
       "mean          1.151558    101.805081     30.726178      1.950952  \n",
       "std           1.169985    220.202490     40.251600      1.074254  \n",
       "min           0.000000      0.000000      0.000000      0.000000  \n",
       "25%           0.000000      1.000000     10.000000      2.000000  \n",
       "50%           1.000000     16.000000     18.000000      2.000000  \n",
       "75%           2.000000     75.000000     34.000000      3.000000  \n",
       "max           5.000000   1379.000000    365.000000      4.000000  "
      ]
     },
     "execution_count": 14,
     "metadata": {},
     "output_type": "execute_result"
    }
   ],
   "source": [
    "train.describe()"
   ]
  },
  {
   "cell_type": "code",
   "execution_count": 15,
   "metadata": {
    "collapsed": false
   },
   "outputs": [],
   "source": [
    "#train.drop(\"_NameFreq\",axis=1,inplace=True)"
   ]
  },
  {
   "cell_type": "code",
   "execution_count": 16,
   "metadata": {
    "collapsed": false
   },
   "outputs": [],
   "source": [
    "# re-index train_df so that ID is first and Target (_OutcomeType) is last\n",
    "#I took out name frequency \n",
    "\n",
    "train = train.reindex(columns = ['AnimalID', '_Name', '_AnimalType', '_SexuponOutcome',\n",
    "                                       '_AgeuponOutcome', '_Breed', '_Color',\n",
    "                                       'Year', 'Month', 'Day', 'Hour', 'Minute',\n",
    "                                       '_OutcomeType'])"
   ]
  },
  {
   "cell_type": "code",
   "execution_count": 17,
   "metadata": {
    "collapsed": false
   },
   "outputs": [
    {
     "name": "stdout",
     "output_type": "stream",
     "text": [
      "22719\n",
      "4010\n"
     ]
    }
   ],
   "source": [
    "#Splitting the data into a training set (85%) and a validation set (15%)\n",
    "\n",
    "cut = int(len(train) * 0.85)\n",
    "_validation = train[cut:]\n",
    "_train = train[:cut]\n",
    "\n",
    "print(len(_train))\n",
    "print(len(_validation))"
   ]
  },
  {
   "cell_type": "code",
   "execution_count": 18,
   "metadata": {
    "collapsed": false
   },
   "outputs": [
    {
     "name": "stdout",
     "output_type": "stream",
     "text": [
      "[[ 0.24274342  0.18711334  0.2497083   0.23481698  0.08561796]\n",
      " [ 0.1952804   0.22705222  0.09071099  0.29157636  0.19538004]\n",
      " [ 0.22086275  0.19683636  0.21643872  0.21159141  0.15427075]\n",
      " ..., \n",
      " [ 0.23549083  0.18718098  0.23159674  0.2228382   0.12289324]\n",
      " [ 0.16451204  0.23353061  0.0889759   0.29619369  0.21678777]\n",
      " [ 0.14391174  0.20038822  0.14131673  0.29512974  0.21925357]]\n"
     ]
    }
   ],
   "source": [
    "#Starting with an Adaboost Classifier\n",
    "\n",
    "import sklearn\n",
    "from sklearn.ensemble import AdaBoostClassifier\n",
    "from sklearn.tree import DecisionTreeClassifier\n",
    "\n",
    "Ada1 = AdaBoostClassifier(DecisionTreeClassifier(max_depth = 2),\n",
    "                        n_estimators = 100,\n",
    "                        learning_rate = 0.1)\n",
    "\n",
    "classifiers = [c.fit(_train.values[:,1:-1],\n",
    "                     _train.values[:,-1].astype(int)) \\\n",
    "               for c in [Ada1]]\n",
    "results = [c.predict_proba(_validation.values[:,1:-1]) \\\n",
    "           for c in classifiers]\n",
    "print(results[0])"
   ]
  },
  {
   "cell_type": "code",
   "execution_count": 19,
   "metadata": {
    "collapsed": false
   },
   "outputs": [
    {
     "name": "stdout",
     "output_type": "stream",
     "text": [
      "[1.3735186201179623]\n"
     ]
    }
   ],
   "source": [
    "#Log loss (classification loss function) is used as an eval metric in kaggle competitions.  It quantifies the accuracy of a \n",
    "#classifier by penalising false classifications.\n",
    "#https://www.kaggle.com/wiki/LogarithmicLoss\n",
    "\n",
    "from sklearn.metrics import log_loss\n",
    "\n",
    "print([log_loss(_validation.values[:,-1].astype(int), r) for r in results])"
   ]
  },
  {
   "cell_type": "code",
   "execution_count": 20,
   "metadata": {
    "collapsed": false
   },
   "outputs": [
    {
     "name": "stdout",
     "output_type": "stream",
     "text": [
      "          ID  Adoption      Died  Euthanasia  Return_to_owner  Transfer\n",
      "0          1  0.156416  0.165491    0.190717         0.280526  0.206849\n",
      "1          2  0.164793  0.210775    0.196456         0.229888  0.198087\n",
      "2          3  0.171224  0.167088    0.261092         0.223591  0.177004\n",
      "3          4  0.161444  0.209948    0.191985         0.229087  0.207535\n",
      "4          5  0.164793  0.210775    0.196456         0.229888  0.198087\n",
      "5          6  0.162255  0.208005    0.194971         0.229130  0.205638\n",
      "6          7  0.151970  0.202791    0.204890         0.232647  0.207701\n",
      "7          8  0.161444  0.209948    0.191985         0.229087  0.207535\n",
      "8          9  0.151965  0.203447    0.200911         0.232539  0.211138\n",
      "9         10  0.151280  0.210902    0.188204         0.233506  0.216107\n",
      "10        11  0.226381  0.151662    0.166494         0.300622  0.154841\n",
      "11        12  0.156952  0.210681    0.192492         0.225581  0.214293\n",
      "12        13  0.177553  0.182117    0.242528         0.218251  0.179550\n",
      "13        14  0.162721  0.208192    0.195214         0.229408  0.204466\n",
      "14        15  0.157594  0.211272    0.193221         0.226363  0.211550\n",
      "15        16  0.158597  0.214642    0.188913         0.225522  0.212325\n",
      "16        17  0.186724  0.202875    0.204212         0.252603  0.153586\n",
      "17        18  0.197184  0.160192    0.260359         0.238932  0.143333\n",
      "18        19  0.161996  0.209026    0.197365         0.230142  0.201471\n",
      "19        20  0.149873  0.198583    0.208437         0.231088  0.212018\n",
      "20        21  0.151107  0.200823    0.201947         0.231186  0.214936\n",
      "21        22  0.155799  0.248490    0.081878         0.275365  0.238468\n",
      "22        23  0.172532  0.193708    0.198015         0.257986  0.177759\n",
      "23        24  0.141335  0.230980    0.155851         0.245079  0.226754\n",
      "24        25  0.182746  0.196607    0.202655         0.249211  0.168780\n",
      "25        26  0.162255  0.208005    0.194971         0.229130  0.205638\n",
      "26        27  0.161444  0.209948    0.191985         0.229087  0.207535\n",
      "27        28  0.179637  0.196611    0.200439         0.249946  0.173367\n",
      "28        29  0.149873  0.198583    0.208437         0.231088  0.212018\n",
      "29        30  0.153155  0.201728    0.204273         0.232846  0.207998\n",
      "...      ...       ...       ...         ...              ...       ...\n",
      "11426  11427  0.194702  0.191777    0.218764         0.235304  0.159454\n",
      "11427  11428  0.190554  0.199590    0.211013         0.237586  0.161257\n",
      "11428  11429  0.181376  0.185574    0.227025         0.237877  0.168148\n",
      "11429  11430  0.193038  0.198742    0.221432         0.241813  0.144975\n",
      "11430  11431  0.148537  0.199906    0.204499         0.230278  0.216780\n",
      "11431  11432  0.168711  0.215993    0.196633         0.232196  0.186467\n",
      "11432  11433  0.190268  0.195999    0.213395         0.235740  0.164598\n",
      "11433  11434  0.161219  0.205670    0.193998         0.227615  0.211497\n",
      "11434  11435  0.180112  0.194644    0.209474         0.244214  0.171556\n",
      "11435  11436  0.136532  0.227214    0.158940         0.246450  0.230864\n",
      "11436  11437  0.162327  0.210957    0.192421         0.229217  0.205077\n",
      "11437  11438  0.199459  0.151076    0.299093         0.225589  0.124783\n",
      "11438  11439  0.167005  0.229415    0.099067         0.270143  0.234370\n",
      "11439  11440  0.161457  0.211390    0.195669         0.225178  0.206307\n",
      "11440  11441  0.141514  0.231434    0.156257         0.245647  0.225148\n",
      "11441  11442  0.190293  0.137343    0.284017         0.252509  0.135838\n",
      "11442  11443  0.194702  0.191777    0.218764         0.235304  0.159454\n",
      "11443  11444  0.209154  0.218233    0.083814         0.287426  0.201373\n",
      "11444  11445  0.176191  0.224223    0.107356         0.266227  0.226002\n",
      "11445  11446  0.136532  0.227214    0.158940         0.246450  0.230864\n",
      "11446  11447  0.161260  0.209257    0.195267         0.231184  0.203031\n",
      "11447  11448  0.189546  0.196861    0.219019         0.238798  0.155775\n",
      "11448  11449  0.161197  0.210993    0.194355         0.230113  0.203343\n",
      "11449  11450  0.195096  0.196224    0.222261         0.240462  0.145956\n",
      "11450  11451  0.179685  0.193928    0.209304         0.244423  0.172660\n",
      "11451  11452  0.150685  0.202873    0.206427         0.231396  0.208620\n",
      "11452  11453  0.143437  0.234504    0.157384         0.246368  0.218307\n",
      "11453  11454  0.167437  0.215478    0.200457         0.234290  0.182338\n",
      "11454  11455  0.179685  0.193928    0.209304         0.244423  0.172660\n",
      "11455  11456  0.183994  0.187640    0.231487         0.240291  0.156588\n",
      "\n",
      "[11456 rows x 6 columns]\n"
     ]
    }
   ],
   "source": [
    "#Now, rebuilding the adaboost classifier on the entire training set, instead of just 85%\n",
    "\n",
    "ab = classifiers[0].fit(train.values[:,1:-1],\n",
    "                        train.values[:,-1].astype(int))\n",
    "\n",
    "# and use the classifier on test_df\n",
    "\n",
    "ab_result = ab.predict_proba(test.values[:,1:])\n",
    "ab_sub_df = pd.DataFrame(ab_result, columns=['Adoption', 'Died', 'Euthanasia',\n",
    "                                             'Return_to_owner', 'Transfer'])\n",
    "ab_sub_df.insert(0, 'ID', test.values[:,0].astype(int))\n",
    "\n",
    "print(ab_sub_df)\n",
    "\n",
    "# write to submission files\n",
    "\n",
    "ab_sub_df.to_csv(\".../Kaggle/Shelter/Sheltersubmission.csv\", index = False)\n"
   ]
  },
  {
   "cell_type": "code",
   "execution_count": null,
   "metadata": {
    "collapsed": true
   },
   "outputs": [],
   "source": []
  }
 ],
 "metadata": {
  "kernelspec": {
   "display_name": "Python 3",
   "language": "python",
   "name": "python3"
  },
  "language_info": {
   "codemirror_mode": {
    "name": "ipython",
    "version": 3
   },
   "file_extension": ".py",
   "mimetype": "text/x-python",
   "name": "python",
   "nbconvert_exporter": "python",
   "pygments_lexer": "ipython3",
   "version": "3.5.1"
  }
 },
 "nbformat": 4,
 "nbformat_minor": 0
}
